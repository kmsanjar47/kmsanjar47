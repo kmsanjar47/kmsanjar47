{
  "nbformat": 4,
  "nbformat_minor": 0,
  "metadata": {
    "colab": {
      "provenance": [],
      "authorship_tag": "ABX9TyNS+yIHzB27SsByXZAUGeAx",
      "include_colab_link": true
    },
    "kernelspec": {
      "name": "python3",
      "display_name": "Python 3"
    },
    "language_info": {
      "name": "python"
    }
  },
  "cells": [
    {
      "cell_type": "markdown",
      "metadata": {
        "id": "view-in-github",
        "colab_type": "text"
      },
      "source": [
        "<a href=\"https://colab.research.google.com/github/kmsanjar47/kmsanjar47/blob/main/220_assignment1_21301463_khan_md_saifullah_anjar_S10.ipynb\" target=\"_parent\"><img src=\"https://colab.research.google.com/assets/colab-badge.svg\" alt=\"Open In Colab\"/></a>"
      ]
    },
    {
      "cell_type": "code",
      "execution_count": null,
      "metadata": {
        "colab": {
          "base_uri": "https://localhost:8080/"
        },
        "id": "LIKVOHEvbuMo",
        "outputId": "57924e16-c347-4449-fd99-ada5a700bcad"
      },
      "outputs": [
        {
          "output_type": "stream",
          "name": "stdout",
          "text": [
            "[40, 50, 60, 0, 0, 0]\n"
          ]
        }
      ],
      "source": [
        "# 1\n",
        "\n",
        "source = [10, 20, 30, 40, 50, 60]\n",
        "arr = [0] * 6\n",
        "\n",
        "def shiftLeft(x: list, y: int):\n",
        "    result = [0] * len(x)\n",
        "    for idx in range(len(x)):\n",
        "        if idx - y >= 0:\n",
        "            result[idx - y] = x[idx]\n",
        "\n",
        "    print(result)\n",
        "\n",
        "\n",
        "shiftLeft(source, 3)"
      ]
    },
    {
      "cell_type": "code",
      "source": [
        "# 2\n",
        "source = [10, 20, 30, 40, 50, 60]\n",
        "\n",
        "def rotateLeft(x: list, y: int):\n",
        "    arr = [0] * len(x)\n",
        "    for idx in range(len(x)):\n",
        "      arr[idx] = x[(idx+(len(x)-y))%len(x)]\n",
        "\n",
        "\n",
        "    x = arr\n",
        "\n",
        "    print(x)\n",
        "\n",
        "\n",
        "rotateLeft(source, 3)\n"
      ],
      "metadata": {
        "colab": {
          "base_uri": "https://localhost:8080/"
        },
        "id": "j4utaWgTb8TO",
        "outputId": "ca1d4820-e780-4629-dd96-0479a1154772"
      },
      "execution_count": null,
      "outputs": [
        {
          "output_type": "stream",
          "name": "stdout",
          "text": [
            "[40, 50, 60, 10, 20, 30]\n"
          ]
        }
      ]
    },
    {
      "cell_type": "code",
      "source": [
        "# 3\n",
        "source = [10, 20, 30, 40, 50, 60]\n",
        "arr = [0] * 6\n",
        "\n",
        "\n",
        "def shiftRight(x: list, y: int):\n",
        "    result = [0] * len(x)\n",
        "    for idx in range(len(x)):\n",
        "        if idx + y < len(x):\n",
        "            result[idx + y] = x[idx]\n",
        "\n",
        "\n",
        "    x = result\n",
        "\n",
        "    print(x)\n",
        "\n",
        "\n",
        "\n",
        "shiftRight(source, 3)"
      ],
      "metadata": {
        "colab": {
          "base_uri": "https://localhost:8080/"
        },
        "id": "TC3jT8e4b_n6",
        "outputId": "e5ff3805-f9b7-4026-e32e-43049a41b9b7"
      },
      "execution_count": null,
      "outputs": [
        {
          "output_type": "stream",
          "name": "stdout",
          "text": [
            "[0, 0, 0, 10, 20, 30]\n"
          ]
        }
      ]
    },
    {
      "cell_type": "code",
      "source": [
        "# 4\n",
        "\n",
        "source = [10, 20, 30, 40, 50, 60]\n",
        "arr = [0] * 6\n",
        "\n",
        "\n",
        "def rotateRight(x: list, y: int):\n",
        "    result = [0] * len(x)\n",
        "    for idx in range(len(x)):\n",
        "        if idx + y < len(x):\n",
        "            result[idx+y] = source[idx]\n",
        "        else:\n",
        "            result[(idx+y)-len(x)] = source[idx]\n",
        "\n",
        "    print(result)\n",
        "\n",
        "rotateRight(source,2)"
      ],
      "metadata": {
        "colab": {
          "base_uri": "https://localhost:8080/"
        },
        "id": "wT0OCOFYcE8S",
        "outputId": "459768f0-dd51-49a4-edba-bc9bad198683"
      },
      "execution_count": null,
      "outputs": [
        {
          "output_type": "stream",
          "name": "stdout",
          "text": [
            "[50, 60, 10, 20, 30, 40]\n"
          ]
        }
      ]
    },
    {
      "cell_type": "code",
      "source": [
        "# 5\n",
        "source = [10, 20, 30, 40, 50, 0, 0]\n",
        "def remove(source, size, idx):\n",
        "    for i in range(idx, size):\n",
        "        source[i] = source[i+1]\n",
        "\n",
        "    print(source)\n",
        "\n",
        "remove(source,5,2)"
      ],
      "metadata": {
        "colab": {
          "base_uri": "https://localhost:8080/"
        },
        "id": "iE9V0_axcGOu",
        "outputId": "45b9f2d9-c4ab-4bd3-a0a2-7e72de057ff6"
      },
      "execution_count": null,
      "outputs": [
        {
          "output_type": "stream",
          "name": "stdout",
          "text": [
            "[10, 20, 40, 50, 0, 0, 0]\n"
          ]
        }
      ]
    },
    {
      "cell_type": "code",
      "source": [
        "# 6\n",
        "\n",
        "source = [10, 2, 30, 2, 50, 2, 2, 0, 0]\n",
        "\n",
        "\n",
        "def removeAll(source, size, element):\n",
        "    for idx in range(size):\n",
        "        if source[idx] == element:\n",
        "            for i in range(idx, size):\n",
        "                source[i] = source[i + 1]\n",
        "\n",
        "            size = size - 1\n",
        "\n",
        "        if source[size - 1] == element:\n",
        "            source[size - 1] = 0\n",
        "    print(source)\n",
        "\n",
        "\n",
        "removeAll(source, 7, 2)"
      ],
      "metadata": {
        "id": "hXCeqkBXcIkg"
      },
      "execution_count": null,
      "outputs": []
    },
    {
      "cell_type": "code",
      "source": [
        "# 7\n",
        "\n",
        "def splitArray(source: list) -> bool:\n",
        "    mid = len(source) // 2\n",
        "\n",
        "    leftSum = 0\n",
        "    rightSum = 0\n",
        "\n",
        "    for idx in range(0, mid+1):\n",
        "        leftSum += source[idx]\n",
        "    for idx in range(len(source)-1,mid,-1):\n",
        "        rightSum += source[idx]\n",
        "\n",
        "    if leftSum == rightSum:\n",
        "        return True\n",
        "\n",
        "    leftSum = 0\n",
        "    rightSum = 0\n",
        "    for idx in range(0, mid):\n",
        "        leftSum += source[idx]\n",
        "    for idx in range(len(source)-1,mid-1,-1):\n",
        "        rightSum += source[idx]\n",
        "\n",
        "    if leftSum == rightSum:\n",
        "        return True\n",
        "\n",
        "    return False\n",
        "\n",
        "source = [10,3,1,2,10]\n",
        "print(splitArray(source))   "
      ],
      "metadata": {
        "id": "hW3nJwFVcNOx"
      },
      "execution_count": null,
      "outputs": []
    },
    {
      "cell_type": "code",
      "source": [
        "# 8\n",
        "def arrayS(n):\n",
        "        \n",
        "        result = [0] * n * n\n",
        "        idx = 1\n",
        "        \n",
        "        while idx <= n:\n",
        "            value = 1\n",
        "            while value <= idx:\n",
        "                x = (idx*n) - value  \n",
        "                result[x] = value\n",
        "                value += 1\n",
        "            idx += 1\n",
        "        print(result)\n",
        "n=3\n",
        "arrayS(n)"
      ],
      "metadata": {
        "id": "DYVDl3j0cO6O",
        "colab": {
          "base_uri": "https://localhost:8080/"
        },
        "outputId": "773e80a0-975a-444f-f6fd-c2a76448bbb3"
      },
      "execution_count": 3,
      "outputs": [
        {
          "output_type": "stream",
          "name": "stdout",
          "text": [
            "[0, 0, 1, 0, 2, 1, 3, 2, 1]\n"
          ]
        }
      ]
    },
    {
      "cell_type": "code",
      "source": [
        "#9\n",
        "def maxCount(source):\n",
        "  value = {}\n",
        "  for i in source:\n",
        "      if i not in value:\n",
        "          value[i] = 0\n",
        "\n",
        "      value[i] += 1\n",
        "\n",
        "  return max(value.values())\n",
        "\n",
        "x = [1, 2, 2, 3, 4, 4, 4]\n",
        "maxCount(x)  "
      ],
      "metadata": {
        "colab": {
          "base_uri": "https://localhost:8080/"
        },
        "id": "0KZZAWzBcXdi",
        "outputId": "a78ebbd3-23f5-40d9-a962-965d8e385eab"
      },
      "execution_count": null,
      "outputs": [
        {
          "output_type": "execute_result",
          "data": {
            "text/plain": [
              "3"
            ]
          },
          "metadata": {},
          "execution_count": 10
        }
      ]
    },
    {
      "cell_type": "code",
      "source": [
        "#10\n",
        "\n",
        "def repitition(source):\n",
        "  value = {}\n",
        "  for i in source:\n",
        "      if i not in value:\n",
        "          value[i] = 0\n",
        "\n",
        "      value[i] += 1\n",
        "\n",
        "  valueList = [values for values in value.values()]\n",
        "  \n",
        "  for idx in range(len(valueList)):\n",
        "      if valueList[idx] in valueList[idx+1:len(valueList)]:\n",
        "          return True\n",
        "\n",
        "  return False\n",
        "\n",
        "x = [3,4,6,3,4,7,4,6,8,6,6]\n",
        "repitition(x)"
      ],
      "metadata": {
        "colab": {
          "base_uri": "https://localhost:8080/"
        },
        "id": "8RVdCSZEcZ3_",
        "outputId": "1c8269d0-7dc4-4437-9581-20bda210a43f"
      },
      "execution_count": null,
      "outputs": [
        {
          "output_type": "execute_result",
          "data": {
            "text/plain": [
              "True"
            ]
          },
          "metadata": {},
          "execution_count": 11
        }
      ]
    }
  ]
}